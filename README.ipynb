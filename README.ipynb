{
 "cells": [
  {
   "cell_type": "markdown",
   "id": "3757335a",
   "metadata": {},
   "source": [
    "# README"
   ]
  },
  {
   "cell_type": "markdown",
   "id": "c398ec03",
   "metadata": {},
   "source": [
    "Neurogenic bladder dysfunction caused by SCI leads to uncontrolled urination or inability to empty bladder, which could pose a threat on patients’ lives. Recent studies on animals showed that stimulation on spinal cord (SCS) could improve the ability of bladder control. While parallels between the effects on bladder function of more established techniques like electrical stimulation of the pudendal nerve exists,  the mechanisms by which SCS interacts with spinal circuits controlling the bladder is still unclear. \n",
    "\n",
    "In this case, computational models simulating epidural electrical stimulation on pudendo-vesical reflex represent an interesting tool to study the parallels between SCS and peripheral nerve stimulation of specific bladder afferent and efferent fibers. This repository contains the code of a computational model of bladder spinal reflexes for peripheral nerve stimulation. Several components of the model are constructed based on the previous study[1][2]:  "
   ]
  },
  {
   "cell_type": "markdown",
   "id": "3ce0ea42",
   "metadata": {},
   "source": [
    "## Dependency installation\n",
    "\n",
    "We suggest users to create a virtual environment or use docker as a container of the model.\n",
    "\n",
    "The following packages are needed to successfully compile this model:\n",
    "\n",
    "* python ~= 3.6\n",
    "  * mpi4py ~= 3.0.3\n",
    "  * Neuron ~= 7.8\n",
    "  * numpy ~= 1.19.1\n",
    "  * pandas ~= 1.1.1\n",
    "  * matplotlib ~= 3.3.1\n",
    "  * scipy ~= 1.5.0\n",
    "  * argparse ~= 1.4.0\n",
    "  * gxx_linux-64\n",
    "* [openmpi-4.1.1](https://www.open-mpi.org/software/ompi/v4.1/)\n",
    "* [neuron ~= 7.8.1.1](http://www.neuron.yale.edu/neuron/download)\n",
    "\n",
    "Specifically, since NEURON is embedded in JupyterLab NEURON, there is no need to install or compile the application from NEURON website. However, the neuron package is still needed when the model is running on other instances.\n"
   ]
  },
  {
   "cell_type": "markdown",
   "id": "809c0bdd",
   "metadata": {},
   "source": [
    "A conda environment named \n",
    "```bladder_model_env.yaml```\n",
    "is already setup for usage. Users can load the environment configuration file to create an environment. Open a terminal from the launcher, run the following commands in terminal to create an environment.\n"
   ]
  },
  {
   "cell_type": "code",
   "execution_count": null,
   "id": "e0272338",
   "metadata": {},
   "outputs": [],
   "source": [
    "# run in terminal\n",
    "cd work\n",
    "\n",
    "conda env create -f bladder_model_env.yaml"
   ]
  },
  {
   "cell_type": "markdown",
   "id": "ae33917e",
   "metadata": {},
   "source": [
    "conda will start to fetch andn install all the packages needed. Unfortunately users need to repeat this step every time to create the environment, since when user exit the pipeline, all the environment settings will be cleared.\n",
    "\n",
    "After successful installation of all packages, run the following steps to activate the environment"
   ]
  },
  {
   "cell_type": "code",
   "execution_count": null,
   "id": "be755112",
   "metadata": {},
   "outputs": [],
   "source": [
    "# 1. run:\n",
    "conda init \n",
    "\n",
    "# 2. you should be able to see the (base) in front of terminal prompt. if not, quit and restart the terminal\n",
    "\n",
    "# 3. make sure you already have (base) in front of terminal prompt, run\n",
    "conda activate bladder_model \n",
    "\n",
    "# 4. you should be able to see (bladder_model) in front of the terminal prompt. To terminate the environment, run\n",
    "conda deactivate"
   ]
  },
  {
   "cell_type": "markdown",
   "id": "41a55e0e",
   "metadata": {},
   "source": [
    "## NEURON configuration\n",
    "\n",
    "The folder \n",
    "\n",
    "```\n",
    "neuralnetwork/code/mod_files \n",
    "```\n",
    "\n",
    "contains MOD files representing different mechanisms that describe the membrane dynamics and particular cell properties. They need to be compiled and link to NEURON object for recognition.\n",
    "\n",
    "In terminal, run\n"
   ]
  },
  {
   "cell_type": "code",
   "execution_count": null,
   "id": "0c656424",
   "metadata": {},
   "outputs": [],
   "source": [
    "# run in terminal\n",
    "cd neuralnetwork/code/\n",
    "\n",
    "nrnivmodl ./mod_files"
   ]
  },
  {
   "cell_type": "markdown",
   "id": "936955e0",
   "metadata": {},
   "source": [
    "Good news: these MOD files are not like conda environment. Once configured, users can skip this step in the future since the configured files will remain in the folder even after exiting the pipeline. \n",
    "\n",
    "**So far we have finished the environment setting.**\n"
   ]
  },
  {
   "cell_type": "markdown",
   "id": "6d8b5e83",
   "metadata": {},
   "source": [
    "## Simulation preparations\n",
    "\n",
    "There are 2 options for running simulations, but option 2 is really used in this pipeline for osparc users. See appendix for the different parameter requirements for these two options.\n",
    "\n",
    "option 1: Users directly define the recruitment percentage of pudendal afferent, pelvic afferent and SPN to receive external stimulation.\n",
    "\n",
    "**option 2:**  The model recieves recruitment data generated by upstream models and an EES amplitude. The recruitment percentages of afferents are calculated automatically based on the recruitment ratio.\n",
    "            \n",
    "For option 2, run the following code to fetch the predefined parameters.\n"
   ]
  },
  {
   "cell_type": "markdown",
   "id": "f5038ee1",
   "metadata": {},
   "source": [
    "\n",
    "After getting the recruitment data from upstream models, users need to define which recruitment data to use as the input for this model. \n",
    "\n",
    "Please go to directory /inputs, follow the instructions in `recruitment data splitter.ipynb`, and **COME BACK** to this README file for the last few steps of running the simulation on osparc. \n"
   ]
  },
  {
   "cell_type": "markdown",
   "id": "6f25fd0c",
   "metadata": {},
   "source": [
    "## Running a simulation (Back from `recruitment data splitter.ipynb`)\n",
    "\n",
    "So far we have finished all the preparation work and we are ready for running a simulation\n",
    "The `runBladderSim.py` is the entrance for running the simulation. Users can start the simulation by running this file in the terminal with specified parameters, or make some customized adjustment in `runBladderSim.py` as per the needs.\n",
    "\n",
    "The program takes the following arguments:\n",
    "\n",
    "+ inputFile: name of file which stores the neural network structure, can be found under /neuralnetwork/nnStructures/\n",
    "+ time: the total simulation time in ms\n",
    "+ rounds: the number of repetitions \n",
    "+ eesFrequency: the epidural electrical stimulaiton frequency applied on afferent nerves\n",
    "+ eesAmplitude: the epidural electrical stimulaiton amplitude applied on afferent nerves\n",
    "+ Pud: the ratio of Pudendal nerves stimulated, ranging from 0.0 - 1.0\n",
    "+ Pel: the ratio of Pelvic nerves stimulated, ranging from 0.0 - 1.0\n",
    "+ SPN: the ratio of SPN neurons stimulated, ranging from 0.0 - 1.0\n",
    "+ instance number: the index of the kernel that running the model\n",
    "+ start volume: the bladder volume at the start of the simulation\n",
    "+ end volume: the bladder volume at the end of the simulation\n",
    "\n",
    "\n",
    "After finishing all the preparation work, users should already have a command line using the following parameters generated from configurations:\n",
    "+ time\n",
    "+ eesFrequency\n",
    "+ eesAmplitude\n",
    "+ start volume\n",
    "+ end volume\n",
    "\n",
    "In the terminal, cd to /code, paste the command line you have and hit enter to start the simulation.\n",
    "\n",
    "You can also compare the command line with the following example to see if you have a correct format. "
   ]
  },
  {
   "cell_type": "code",
   "execution_count": null,
   "id": "b9232e4f",
   "metadata": {},
   "outputs": [],
   "source": [
    "# Example\n",
    "\n",
    "cd neuralnetwork/code/\n",
    "\n",
    "python scripts/runBladderSim.py frwSimCat.txt 10000 1 33 500 0.0 0.0 0.0 1 20.0 20.0\n"
   ]
  },
  {
   "cell_type": "markdown",
   "id": "0f3b8298",
   "metadata": {},
   "source": [
    "Pudendal afferent, Pelvic afferent and SPN recruitment rates are set to 0.0, and the 300 nA EES is applied on them. The recruitment ratio is calculated by the recruitment data generated by bladder model"
   ]
  },
  {
   "cell_type": "markdown",
   "id": "06fa6363",
   "metadata": {},
   "source": [
    "## Results\n",
    "All results are stored in ../results. There is also an analysis script `Analysis on bladder traces and neuron firings.ipynb` to provide some simple processing of data.\n",
    "\n",
    "The types of data stored after simulation are listed below.\n",
    "\n",
    "### Bladder pressure related\n",
    "+ bladder pressure traces: \n",
    "    `instance-index_time_bp_volume_stim-freq.txt`, store the bladder pressur changes along the simulation\n",
    "    \n",
    "+ bladder pressure change ratio: \n",
    "    `instance-index_time_bp_pud-ratio_pel-ratio_spn-ratio at stim-freq.txt `, store 3 values: average bladder pressure pre-stimulation, average bladder pressure post-stimulation, post/pre bladder pressure ratio.\n",
    "    \n",
    "A ratio less than 1 indicates inhibition effect of EES, and a ratio larger than 1 indicates excitorary effect.\n",
    "    \n",
    "+ bladder pressure auc change ratio: \n",
    "    `instance-index_time_auc_pud-ratio_pel-ratio_spn-ratio at stim-freq.txt `, similar to the file setting above, store auc under the bladder pressure curve along simulation. Using auc as a more comparable measurement for ramp-filling experiment setting. \n",
    "\n",
    "\n",
    "\n",
    "### Neuron firing related \n",
    "\n",
    "+ afferents and neuron spikes: stored the timepoint for each neuron within the group (30 neurons in total) to spike in sparse matrix as .npz files\n",
    "\n",
    "+ membrane potential: the membrane potential change for each SPN neuron within the group (30 neurons in total)  is stored as `instance-index_time_bladder-volume_stim-frequency_SPN_mem.txt`\n",
    "\n",
    "\n"
   ]
  },
  {
   "cell_type": "markdown",
   "id": "390a02b2",
   "metadata": {},
   "source": [
    "## Reference\n",
    "\n",
    "[1]: Formento, E. et al., Formento, E., Minassian, K., Wagner, F. *et al.* Electrical spinal cord stimulation must preserve proprioception to enable locomotion in humans with spinal cord injury. *Nat Neurosci* **21,** 1728–1741 (2018). https://doi.org/10.1038/s41593-018-0262-6          Related code: https://github.com/FormentoEmanuele/MuscleSpindleCircuitsModel\n",
    "\n",
    "[2]:McGee MJ, Grill WM. Modeling the spinal pudendo-vesical reflex for bladder control by pudendal afferent stimulation. J Comput Neurosci. 2016 Jun;40(3):283-96. doi: 10.1007/s10827-016-0597-5. Epub 2016 Mar 11. PMID: 26968615; PMCID: PMC4860361."
   ]
  },
  {
   "cell_type": "markdown",
   "id": "6b7b301a",
   "metadata": {},
   "source": [
    "## Appendix\n",
    "\n",
    "### parameter requirements for option 1 and 2\n",
    "| OPTION | Network structure file | EES frequency | EES amplitude | Recruitment rate of pudendal nerve ( 0.0 - 1.0) | Recruitment rate of pelvic nerve (0.0 - 1.0) |Recruitment rate of SPN neuron (0.0 - 1.0) |instance number|start volume|end volume |\n",
    "| ------ | ---------------| --------- | ------ | ------------------------- | -------------------- |--------------------------- |---------------|------|----|                           \n",
    "| 1      |     **✓**     |     **✓**     | any value     |     **✓**      |     **✓**    |     **✓**    |    **✓**       |     **✓**      |    **✓**    |               \n",
    "| 2      |     **✓**     |     **✓**     |     **✓**     | 0.0            |     0.0      |       0.0     |    **✓**       |      **✓**     |    **✓**    |     \n",
    "\n",
    "\n",
    "+ option 1 example: customize the recruitment rate:\n",
    "\n",
    "```\n",
    "  cd neuralnetwork/code/\n",
    "  python scripts/runBladderSim.py frwSimCat.txt 10000 1 33 300 1.0 0.5 0.2 1 20.0 20.0\n",
    "```\n",
    "\n",
    "Pud recruitment is set to 1.0, while Pel recruitment is set to 0.5.\n",
    "Notice the *eesAmplitude* (300) here works as a placeholder and will not be processed by the program. It could be any number."
   ]
  }
 ],
 "metadata": {
  "kernelspec": {
   "display_name": "python (NEURON)",
   "language": "python",
   "name": "python-neuron"
  },
  "language_info": {
   "codemirror_mode": {
    "name": "ipython",
    "version": 3
   },
   "file_extension": ".py",
   "mimetype": "text/x-python",
   "name": "python",
   "nbconvert_exporter": "python",
   "pygments_lexer": "ipython3",
   "version": "3.7.10"
  }
 },
 "nbformat": 4,
 "nbformat_minor": 5
}
